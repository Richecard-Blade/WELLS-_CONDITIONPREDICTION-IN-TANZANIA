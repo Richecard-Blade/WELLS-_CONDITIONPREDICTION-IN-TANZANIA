{
 "cells": [
  {
   "cell_type": "markdown",
   "metadata": {},
   "source": [
    "# Phase 3 Project — Tanzania Water Well Classification\n",
    "\n",
    "Prepared by: Richecard Blade DAMEUS\n",
    "\n",
    "Instructor: Wedter Jerome\n",
    "\n",
    "### **Introduction**\n",
    "\n",
    "Access to safe and clean water is crucial for public health, especially in rural areas. In Tanzania, the effectiveness of water well installations can significantly affect communities' access to potable water. However, maintaining these water points efficiently remains a challenge, as some wells can become non-functional over time, requiring repairs or replacements. NGOs and government agencies responsible for maintaining water wells need a reliable system to predict and prioritize the wells that need urgent attention.\n",
    "\n",
    "This project aims to develop a machine learning classifier that predicts the condition of water points based on various factors, such as installation details, geographical location, and historical maintenance data. By using this model, stakeholders can prioritize interventions and ensure that the resources are directed where they are most needed, helping to improve access to clean water."
   ]
  },
  {
   "cell_type": "markdown",
   "metadata": {},
   "source": [
    "### **Tasks and Methodology**\n",
    "\n",
    "### 1. Business & Data Understanding\n",
    "\n",
    "The first task was to thoroughly understand the business problem and the data provided:\n",
    "\n",
    "**Business Problem:** The primary goal is to predict the status of water wells, i.e., whether they are functional, need repair, or are non-functional.\n",
    "\n",
    "**Target Variable:** The model predicts the status_group of water wells, classified into three categories: functional, functional needs repair, and non functional.\n",
    "\n",
    "**Features:** Key features include technical aspects like the well’s installation and maintenance history (installer, funder, amount_tsh), geographic data (gps_height, latitude, longitude), and temporal data (construction_year, date_recorded).\n",
    "\n",
    "The business challenge lies in ensuring that repairs are prioritized for wells that are non-functional or need repairs, as these directly impact water access. An effective classifier will minimize both false positives (unnecessary site visits) and false negatives (missed repairs), thus saving time and resources."
   ]
  },
  {
   "cell_type": "markdown",
   "metadata": {},
   "source": [
    "### 2. Data Loading and Preprocessing\n",
    "\n",
    "The next step was to load and preprocess the data to make it suitable for machine learning:"
   ]
  },
  {
   "cell_type": "code",
   "execution_count": 2,
   "metadata": {},
   "outputs": [],
   "source": [
    "import pandas as pd\n",
    "import numpy as np\n",
    "import json\n",
    "from pathlib import Path\n",
    "\n",
    "from sklearn.model_selection import train_test_split, RandomizedSearchCV\n",
    "from sklearn.compose import ColumnTransformer\n",
    "from sklearn.pipeline import Pipeline\n",
    "from sklearn.preprocessing import LabelEncoder\n",
    "from sklearn.impute import SimpleImputer\n",
    "from sklearn.preprocessing import OneHotEncoder, StandardScaler\n",
    "from sklearn.linear_model import LogisticRegression\n",
    "from sklearn.ensemble import RandomForestClassifier\n",
    "from sklearn.metrics import (\n",
    "    classification_report, confusion_matrix,\n",
    "    f1_score, accuracy_score, recall_score\n",
    ")\n",
    "from scipy.stats import randint"
   ]
  },
  {
   "cell_type": "code",
   "execution_count": 13,
   "metadata": {},
   "outputs": [
    {
     "data": {
      "text/plain": [
       "(      id  amount_tsh  gps_height  longitude   latitude  num_private  \\\n",
       " 0  69572      6000.0        1390  34.938093  -9.856322            0   \n",
       " 1   8776         0.0        1399  34.698766  -2.147466            0   \n",
       " 2  34310        25.0         686  37.460664  -3.821329            0   \n",
       " 3  67743         0.0         263  38.486161 -11.155298            0   \n",
       " 4  19728         0.0           0  31.130847  -1.825359            0   \n",
       " \n",
       "    region_code  district_code  population  construction_year  \n",
       " 0           11              5         109               1999  \n",
       " 1           20              2         280               2010  \n",
       " 2           21              4         250               2009  \n",
       " 3           90             63          58               1986  \n",
       " 4           18              1           0                  0  ,\n",
       "       id    status_group\n",
       " 0  69572      functional\n",
       " 1   8776      functional\n",
       " 2  34310      functional\n",
       " 3  67743  non functional\n",
       " 4  19728      functional)"
      ]
     },
     "execution_count": 13,
     "metadata": {},
     "output_type": "execute_result"
    }
   ],
   "source": [
    "# Load the data\n",
    "df1 = pd.read_csv(\"4910797b-ee55-40a7-8668-10efd5c1b960.csv\")\n",
    "df2 = pd.read_csv(\"0bf8bc6e-30d0-4c50-956a-603fc693d966.csv\")\n",
    "\n",
    "# Filter numerical columns from df1\n",
    "df1 = df1.select_dtypes(include=\"number\")\n",
    "\n",
    "# Show the shapes and preview of the datasets\n",
    "df1.shape, df2.shape\n",
    "df1.head(), df2.head()"
   ]
  },
  {
   "cell_type": "markdown",
   "metadata": {},
   "source": [
    "## 3. Data Understanding & EDA"
   ]
  },
  {
   "cell_type": "code",
   "execution_count": 4,
   "metadata": {},
   "outputs": [
    {
     "data": {
      "text/plain": [
       "functional                 0.543081\n",
       "non functional             0.384242\n",
       "functional needs repair    0.072677\n",
       "Name: class_share, dtype: float64"
      ]
     },
     "execution_count": 4,
     "metadata": {},
     "output_type": "execute_result"
    }
   ],
   "source": [
    "# Merge y into X for EDA (train only)\n",
    "df = df1.merge(df2, on='id', how='left')\n",
    "df['status_group'].value_counts(normalize=True).rename('class_share')"
   ]
  },
  {
   "cell_type": "markdown",
   "metadata": {},
   "source": [
    "#### Label Encoding: Converting Categorical Target Variable to Numeric Values\n",
    "\n",
    "In this analysis, I needed to convert the target variable `status_group` (which has three categories) into numeric values in order to train my model. This is a **classification problem**, and to do this, I used `LabelEncoder` from `sklearn`, which transforms the categories into numbers.\n",
    "\n",
    "- **Functional** → `0`\n",
    "- **Functional needs repair** → `1`\n",
    "- **Non functional** → `2`\n",
    "\n",
    "This transformation allows the model to interpret the target variable as numeric, which is necessary for machine learning algorithms like **Logistic Regression** or **Random Forest**."
   ]
  },
  {
   "cell_type": "code",
   "execution_count": 14,
   "metadata": {},
   "outputs": [],
   "source": [
    "label_encoder = LabelEncoder()\n",
    "df[\"status_group\"] = label_encoder.fit_transform(df['status_group'])"
   ]
  },
  {
   "cell_type": "code",
   "execution_count": 15,
   "metadata": {},
   "outputs": [
    {
     "data": {
      "text/html": [
       "<div>\n",
       "<style scoped>\n",
       "    .dataframe tbody tr th:only-of-type {\n",
       "        vertical-align: middle;\n",
       "    }\n",
       "\n",
       "    .dataframe tbody tr th {\n",
       "        vertical-align: top;\n",
       "    }\n",
       "\n",
       "    .dataframe thead th {\n",
       "        text-align: right;\n",
       "    }\n",
       "</style>\n",
       "<table border=\"1\" class=\"dataframe\">\n",
       "  <thead>\n",
       "    <tr style=\"text-align: right;\">\n",
       "      <th></th>\n",
       "      <th>id</th>\n",
       "      <th>amount_tsh</th>\n",
       "      <th>gps_height</th>\n",
       "      <th>longitude</th>\n",
       "      <th>latitude</th>\n",
       "      <th>num_private</th>\n",
       "      <th>region_code</th>\n",
       "      <th>district_code</th>\n",
       "      <th>population</th>\n",
       "      <th>construction_year</th>\n",
       "      <th>status_group</th>\n",
       "    </tr>\n",
       "  </thead>\n",
       "  <tbody>\n",
       "    <tr>\n",
       "      <th>0</th>\n",
       "      <td>69572</td>\n",
       "      <td>6000.0</td>\n",
       "      <td>1390</td>\n",
       "      <td>34.938093</td>\n",
       "      <td>-9.856322</td>\n",
       "      <td>0</td>\n",
       "      <td>11</td>\n",
       "      <td>5</td>\n",
       "      <td>109</td>\n",
       "      <td>1999</td>\n",
       "      <td>0</td>\n",
       "    </tr>\n",
       "    <tr>\n",
       "      <th>1</th>\n",
       "      <td>8776</td>\n",
       "      <td>0.0</td>\n",
       "      <td>1399</td>\n",
       "      <td>34.698766</td>\n",
       "      <td>-2.147466</td>\n",
       "      <td>0</td>\n",
       "      <td>20</td>\n",
       "      <td>2</td>\n",
       "      <td>280</td>\n",
       "      <td>2010</td>\n",
       "      <td>0</td>\n",
       "    </tr>\n",
       "    <tr>\n",
       "      <th>2</th>\n",
       "      <td>34310</td>\n",
       "      <td>25.0</td>\n",
       "      <td>686</td>\n",
       "      <td>37.460664</td>\n",
       "      <td>-3.821329</td>\n",
       "      <td>0</td>\n",
       "      <td>21</td>\n",
       "      <td>4</td>\n",
       "      <td>250</td>\n",
       "      <td>2009</td>\n",
       "      <td>0</td>\n",
       "    </tr>\n",
       "    <tr>\n",
       "      <th>3</th>\n",
       "      <td>67743</td>\n",
       "      <td>0.0</td>\n",
       "      <td>263</td>\n",
       "      <td>38.486161</td>\n",
       "      <td>-11.155298</td>\n",
       "      <td>0</td>\n",
       "      <td>90</td>\n",
       "      <td>63</td>\n",
       "      <td>58</td>\n",
       "      <td>1986</td>\n",
       "      <td>2</td>\n",
       "    </tr>\n",
       "    <tr>\n",
       "      <th>4</th>\n",
       "      <td>19728</td>\n",
       "      <td>0.0</td>\n",
       "      <td>0</td>\n",
       "      <td>31.130847</td>\n",
       "      <td>-1.825359</td>\n",
       "      <td>0</td>\n",
       "      <td>18</td>\n",
       "      <td>1</td>\n",
       "      <td>0</td>\n",
       "      <td>0</td>\n",
       "      <td>0</td>\n",
       "    </tr>\n",
       "    <tr>\n",
       "      <th>...</th>\n",
       "      <td>...</td>\n",
       "      <td>...</td>\n",
       "      <td>...</td>\n",
       "      <td>...</td>\n",
       "      <td>...</td>\n",
       "      <td>...</td>\n",
       "      <td>...</td>\n",
       "      <td>...</td>\n",
       "      <td>...</td>\n",
       "      <td>...</td>\n",
       "      <td>...</td>\n",
       "    </tr>\n",
       "    <tr>\n",
       "      <th>59395</th>\n",
       "      <td>60739</td>\n",
       "      <td>10.0</td>\n",
       "      <td>1210</td>\n",
       "      <td>37.169807</td>\n",
       "      <td>-3.253847</td>\n",
       "      <td>0</td>\n",
       "      <td>3</td>\n",
       "      <td>5</td>\n",
       "      <td>125</td>\n",
       "      <td>1999</td>\n",
       "      <td>0</td>\n",
       "    </tr>\n",
       "    <tr>\n",
       "      <th>59396</th>\n",
       "      <td>27263</td>\n",
       "      <td>4700.0</td>\n",
       "      <td>1212</td>\n",
       "      <td>35.249991</td>\n",
       "      <td>-9.070629</td>\n",
       "      <td>0</td>\n",
       "      <td>11</td>\n",
       "      <td>4</td>\n",
       "      <td>56</td>\n",
       "      <td>1996</td>\n",
       "      <td>0</td>\n",
       "    </tr>\n",
       "    <tr>\n",
       "      <th>59397</th>\n",
       "      <td>37057</td>\n",
       "      <td>0.0</td>\n",
       "      <td>0</td>\n",
       "      <td>34.017087</td>\n",
       "      <td>-8.750434</td>\n",
       "      <td>0</td>\n",
       "      <td>12</td>\n",
       "      <td>7</td>\n",
       "      <td>0</td>\n",
       "      <td>0</td>\n",
       "      <td>0</td>\n",
       "    </tr>\n",
       "    <tr>\n",
       "      <th>59398</th>\n",
       "      <td>31282</td>\n",
       "      <td>0.0</td>\n",
       "      <td>0</td>\n",
       "      <td>35.861315</td>\n",
       "      <td>-6.378573</td>\n",
       "      <td>0</td>\n",
       "      <td>1</td>\n",
       "      <td>4</td>\n",
       "      <td>0</td>\n",
       "      <td>0</td>\n",
       "      <td>0</td>\n",
       "    </tr>\n",
       "    <tr>\n",
       "      <th>59399</th>\n",
       "      <td>26348</td>\n",
       "      <td>0.0</td>\n",
       "      <td>191</td>\n",
       "      <td>38.104048</td>\n",
       "      <td>-6.747464</td>\n",
       "      <td>0</td>\n",
       "      <td>5</td>\n",
       "      <td>2</td>\n",
       "      <td>150</td>\n",
       "      <td>2002</td>\n",
       "      <td>0</td>\n",
       "    </tr>\n",
       "  </tbody>\n",
       "</table>\n",
       "<p>59400 rows × 11 columns</p>\n",
       "</div>"
      ],
      "text/plain": [
       "          id  amount_tsh  gps_height  longitude   latitude  num_private  \\\n",
       "0      69572      6000.0        1390  34.938093  -9.856322            0   \n",
       "1       8776         0.0        1399  34.698766  -2.147466            0   \n",
       "2      34310        25.0         686  37.460664  -3.821329            0   \n",
       "3      67743         0.0         263  38.486161 -11.155298            0   \n",
       "4      19728         0.0           0  31.130847  -1.825359            0   \n",
       "...      ...         ...         ...        ...        ...          ...   \n",
       "59395  60739        10.0        1210  37.169807  -3.253847            0   \n",
       "59396  27263      4700.0        1212  35.249991  -9.070629            0   \n",
       "59397  37057         0.0           0  34.017087  -8.750434            0   \n",
       "59398  31282         0.0           0  35.861315  -6.378573            0   \n",
       "59399  26348         0.0         191  38.104048  -6.747464            0   \n",
       "\n",
       "       region_code  district_code  population  construction_year  status_group  \n",
       "0               11              5         109               1999             0  \n",
       "1               20              2         280               2010             0  \n",
       "2               21              4         250               2009             0  \n",
       "3               90             63          58               1986             2  \n",
       "4               18              1           0                  0             0  \n",
       "...            ...            ...         ...                ...           ...  \n",
       "59395            3              5         125               1999             0  \n",
       "59396           11              4          56               1996             0  \n",
       "59397           12              7           0                  0             0  \n",
       "59398            1              4           0                  0             0  \n",
       "59399            5              2         150               2002             0  \n",
       "\n",
       "[59400 rows x 11 columns]"
      ]
     },
     "execution_count": 15,
     "metadata": {},
     "output_type": "execute_result"
    }
   ],
   "source": [
    "# Missingness and basic info\n",
    "missing = df.isna().mean().sort_values(ascending=False).head()\n",
    "cardinality = df.nunique().sort_values(ascending=False).head()\n",
    "df"
   ]
  },
  {
   "cell_type": "markdown",
   "metadata": {},
   "source": [
    "## 5. Split & Preprocessing\n",
    "\n",
    "In this step, we split the data into training and validation sets. The target variable `status_group` (which contains the categories: `functional`, `functional needs repair`, `non functional`) is separated from the features. The data is then split into training and validation sets with a ratio of 80% for training and 20% for validation. This is done using **train_test_split**, with stratification applied to ensure the distribution of the target variable is consistent across both sets.\n",
    "\n",
    "The following steps are carried out:\n",
    "- **Target Variable (`y`)**: The `status_group` column from `df2`.\n",
    "- **Features (`X`)**: All the numerical columns from `df1`."
   ]
  },
  {
   "cell_type": "code",
   "execution_count": 7,
   "metadata": {},
   "outputs": [
    {
     "data": {
      "text/plain": [
       "((47520, 10),\n",
       " (11880, 10),\n",
       " functional                 0.543077\n",
       " non functional             0.384238\n",
       " functional needs repair    0.072685\n",
       " Name: status_group, dtype: float64,\n",
       " functional                 0.543098\n",
       " non functional             0.384259\n",
       " functional needs repair    0.072643\n",
       " Name: status_group, dtype: float64)"
      ]
     },
     "execution_count": 7,
     "metadata": {},
     "output_type": "execute_result"
    }
   ],
   "source": [
    "y = df2['status_group']\n",
    "X = df1\n",
    "\n",
    "X_tr, X_va, y_tr, y_va = train_test_split( \n",
    "    X, y, test_size=0.2, random_state=42, stratify=y\n",
    ")\n",
    "\n",
    "X_tr.shape, X_va.shape, y_tr.value_counts(normalize=True), y_va.value_counts(normalize=True)"
   ]
  },
  {
   "cell_type": "code",
   "execution_count": 16,
   "metadata": {},
   "outputs": [],
   "source": [
    "# Create a pipeline for preprocessing and training the model\n",
    "\n",
    "num_cols = X.select_dtypes(include=['number']).columns.tolist()\n",
    "cat_cols = [c for c in X.columns if c not in num_cols]\n",
    "\n",
    "numeric_tf = Pipeline([\n",
    "    ('impute', SimpleImputer(strategy='median')),\n",
    "    ('scale', StandardScaler(with_mean=False))  # sparse-safe\n",
    "])\n",
    "\n",
    "preprocess = ColumnTransformer([\n",
    "    ('num', numeric_tf, num_cols)\n",
    "])\n"
   ]
  },
  {
   "cell_type": "markdown",
   "metadata": {},
   "source": [
    "## 6. Baseline Model - Multinomial Logistic Regression\n",
    "\n",
    "In this step, we implement a baseline model using **Multinomial Logistic Regression**. This model is suitable for multi-class classification problems, where the target variable has more than two classes. Here, the target variable `status_group` has three classes: `functional`, `functional needs repair`, and `non functional`.\n",
    "\n",
    "### Model Setup\n",
    "\n",
    "We initialize the **Logistic Regression** model with the following parameters:\n",
    "- **`multi_class='multinomial'`**: This specifies that the logistic regression should be treated as a multinomial classification problem.\n",
    "- **`class_weight='balanced'`**: This adjusts the weights inversely proportional to class frequencies in the input data, helping to handle class imbalance by giving more importance to the minority class.\n",
    "- **`max_iter=200`**: Specifies the maximum number of iterations for the solver to converge.\n",
    "- **`solver='lbfgs'`**: The solver used for optimization. `lbfgs` is an optimization algorithm suited for large datasets.\n",
    "  "
   ]
  },
  {
   "cell_type": "code",
   "execution_count": 18,
   "metadata": {},
   "outputs": [],
   "source": [
    "logreg = LogisticRegression(\n",
    "    multi_class='multinomial',\n",
    "    class_weight='balanced',\n",
    "    max_iter=200,\n",
    "    n_jobs=None,\n",
    "    solver='lbfgs'\n",
    ")"
   ]
  },
  {
   "cell_type": "markdown",
   "metadata": {},
   "source": [
    "### Pipeline Creation\n",
    "\n",
    "We create a pipeline that combines preprocessing and model training:\n",
    "- **`prep`**: The preprocessing steps (such as scaling, encoding, and imputation) are applied first.\n",
    "- **`clf`**: This refers to the **Logistic Regression** classifier.\n"
   ]
  },
  {
   "cell_type": "markdown",
   "metadata": {},
   "source": [
    "### Model Fitting and Predictions\n",
    "\n",
    "We fit the model on the training data (X_tr, y_tr) and then make predictions for both the training and validation sets:\n",
    "\n",
    "- **`pipe_lr.fit(X_tr, y_tr)`**: This trains the pipeline on the training data.\n",
    "- **`pipe_lr.predict(X_tr)`** and **`pipe_lr.predict(X_va)`**: These functions generate predictions for both the training and validation sets."
   ]
  },
  {
   "cell_type": "code",
   "execution_count": 20,
   "metadata": {},
   "outputs": [
    {
     "name": "stdout",
     "output_type": "stream",
     "text": [
      "Baseline Logistic Regression\n",
      "Train  macro-F1: 0.405 | Acc: 0.472\n",
      "Valid  macro-F1: 0.403 | Acc: 0.469\n",
      "\n",
      "Per-class report (validation):\n",
      "                          precision    recall  f1-score   support\n",
      "\n",
      "             functional       0.63      0.44      0.52      6452\n",
      "functional needs repair       0.15      0.31      0.21       863\n",
      "         non functional       0.44      0.54      0.49      4565\n",
      "\n",
      "               accuracy                           0.47     11880\n",
      "              macro avg       0.41      0.43      0.40     11880\n",
      "           weighted avg       0.52      0.47      0.48     11880\n",
      "\n"
     ]
    }
   ],
   "source": [
    "\n",
    "    pipe_lr = Pipeline([\n",
    "    ('prep', preprocess),\n",
    "    ('clf', logreg)\n",
    "])\n",
    "\n",
    "pipe_lr.fit(X_tr, y_tr)\n",
    "y_tr_hat = pipe_lr.predict(X_tr)\n",
    "y_va_hat = pipe_lr.predict(X_va)\n",
    "\n",
    "print(\"Baseline Logistic Regression\")\n",
    "print(\"Train  macro-F1:\", round(f1_score(y_tr, y_tr_hat, average='macro'), 3), \"| Acc:\", round(accuracy_score(y_tr, y_tr_hat), 3))\n",
    "print(\"Valid  macro-F1:\", round(f1_score(y_va, y_va_hat, average='macro'), 3), \"| Acc:\", round(accuracy_score(y_va, y_va_hat), 3))\n",
    "print(\"\\nPer-class report (validation):\\n\", classification_report(y_va, y_va_hat))"
   ]
  },
  {
   "cell_type": "markdown",
   "metadata": {},
   "source": [
    "## 7. Random Forest Classifier - Hyperparameter Tuning\n",
    "\n",
    "In this section, we build and tune a **Random Forest Classifier** to improve the model’s performance.\n",
    "\n",
    "### **Model Setup**\n",
    "\n",
    "We initialize the **Random Forest Classifier** with the following parameters:\n",
    "- **`n_estimators=300`**: The number of trees in the forest.\n",
    "- **`random_state=42`**: Ensures reproducibility of results.\n",
    "- **`n_jobs=-1`**: Uses all available cores for parallel processing, speeding up model training.\n",
    "- **`class_weight='balanced_subsample'`**: Adjusts the weights inversely proportional to class frequencies in each bootstrap sample, improving performance on imbalanced classes."
   ]
  },
  {
   "cell_type": "code",
   "execution_count": 11,
   "metadata": {},
   "outputs": [
    {
     "name": "stdout",
     "output_type": "stream",
     "text": [
      "Fitting 3 folds for each of 20 candidates, totalling 60 fits\n"
     ]
    },
    {
     "name": "stderr",
     "output_type": "stream",
     "text": [
      "[Parallel(n_jobs=-1)]: Using backend LokyBackend with 4 concurrent workers.\n",
      "[Parallel(n_jobs=-1)]: Done  42 tasks      | elapsed: 11.5min\n",
      "[Parallel(n_jobs=-1)]: Done  60 out of  60 | elapsed: 15.2min finished\n"
     ]
    },
    {
     "name": "stdout",
     "output_type": "stream",
     "text": [
      "RandomForest (tuned)\n",
      "Best params: {'clf__max_depth': 25, 'clf__max_features': 'sqrt', 'clf__min_samples_leaf': 3, 'clf__min_samples_split': 6, 'clf__n_estimators': 506}\n",
      "Valid macro-F1: 0.613 | Acc: 0.704\n",
      "\n",
      "Per-class report (validation):\n",
      "                          precision    recall  f1-score   support\n",
      "\n",
      "             functional       0.76      0.75      0.75      6452\n",
      "functional needs repair       0.36      0.42      0.39       863\n",
      "         non functional       0.70      0.70      0.70      4565\n",
      "\n",
      "               accuracy                           0.70     11880\n",
      "              macro avg       0.61      0.62      0.61     11880\n",
      "           weighted avg       0.71      0.70      0.71     11880\n",
      "\n"
     ]
    }
   ],
   "source": [
    "\n",
    "rf = RandomForestClassifier(\n",
    "    n_estimators=300,\n",
    "    random_state=42,\n",
    "    n_jobs=-1,\n",
    "    class_weight='balanced_subsample'\n",
    ")\n",
    "\n",
    "pipe_rf = Pipeline([\n",
    "    ('prep', preprocess),\n",
    "    ('clf', rf)\n",
    "])\n",
    "\n",
    "param_dist = {\n",
    "    'clf__n_estimators': randint(200, 600),\n",
    "    'clf__max_depth': randint(6, 30),\n",
    "    'clf__min_samples_split': randint(2, 20),\n",
    "    'clf__min_samples_leaf': randint(1, 10),\n",
    "    'clf__max_features': ['sqrt', 'log2', 0.3, 0.5, None]\n",
    "}\n",
    "\n",
    "search = RandomizedSearchCV(\n",
    "    pipe_rf,\n",
    "    param_distributions=param_dist,\n",
    "    n_iter=20,\n",
    "    scoring='f1_macro',\n",
    "    cv=3,\n",
    "    verbose=1,\n",
    "    random_state=42,\n",
    "    n_jobs=-1\n",
    ")\n",
    "\n",
    "search.fit(X_tr, y_tr)\n",
    "best_rf = search.best_estimator_\n",
    "y_va_hat_rf = best_rf.predict(X_va)\n",
    "\n",
    "print(\"RandomForest (tuned)\")\n",
    "print(\"Best params:\", search.best_params_)\n",
    "print(\"Valid macro-F1:\", round(f1_score(y_va, y_va_hat_rf, average='macro'), 3), \"| Acc:\", round(accuracy_score(y_va, y_va_hat_rf), 3))\n",
    "print(\"\\nPer-class report (validation):\\n\", classification_report(y_va, y_va_hat_rf))\n"
   ]
  },
  {
   "cell_type": "markdown",
   "metadata": {},
   "source": [
    "### Model Evaluation\n",
    "\n",
    "Finally, we evaluate the model using several metrics:\n",
    "\n",
    "- **Macro-F1**: This metric balances performance across all classes by calculating the F1 score for each class and then averaging them.\n",
    "- **Accuracy**: The overall correctness of the predictions.\n",
    "- **Recall**: Special attention was given to the recall of the non-functional class to avoid missing critical repairs.\n",
    "  \n",
    "The classification report provides additional details on precision, recall, and F1 score for each class.\n",
    "\n",
    "The evaluation metrics demonstrated that the **Random Forest** model outperformed Logistic Regression, especially in correctly identifying non-functional wells."
   ]
  },
  {
   "cell_type": "markdown",
   "metadata": {},
   "source": [
    "### Problem Recap\n",
    "The objective of this analysis was to build a predictive model to classify the condition of water wells in Tanzania into three categories:\n",
    "- **Functional**: Wells that are operational.\n",
    "- **Functional needs repair**: Wells that require maintenance but are not completely broken.\n",
    "- **Non-functional**: Wells that are completely out of order and need urgent repair.\n",
    "\n",
    "This classification problem is essential for prioritizing interventions, ensuring that **non-functional wells** are addressed first, and ultimately improving access to safe water for millions of people in Tanzania.\n",
    "\n",
    "### Model Selection Process\n",
    "After testing various models, we performed a detailed comparison between **Logistic Regression** (baseline) and **Random Forest** (tuned).\n",
    "\n",
    "#### Logistic Regression (Baseline):\n",
    "- **Validation Macro-F1**: 0.403\n",
    "- **Accuracy**: 47%\n",
    "- **Per-Class Recall**:\n",
    "  - Functional: 44%\n",
    "  - Functional Needs Repair: 31%\n",
    "  - Non-functional: 54%\n",
    "\n",
    "#### Random Forest (Tuned):\n",
    "- **Validation Macro-F1**: 0.613\n",
    "- **Accuracy**: 70%\n",
    "- **Per-Class Recall**:\n",
    "  - Functional: 75%\n",
    "  - Functional Needs Repair: 42%\n",
    "  - Non-functional: 70%\n",
    "\n",
    "### Key Findings\n",
    "- **Random Forest** outperformed **Logistic Regression** in all critical metrics:\n",
    "  - **Macro-F1 score**: Random Forest achieved a **significant improvement** in balancing precision and recall across all classes (0.613 vs. 0.403).\n",
    "  - **Accuracy**: Random Forest also showed **better accuracy** (70% vs. 47%), indicating superior generalization on unseen data.\n",
    "  - **Recall for Non-Functional Class**: The most important metric for this problem is recall for **non-functional wells**, as they require urgent attention. Random Forest achieved **70% recall**, significantly better than the 54% recall of Logistic Regression.\n",
    "\n",
    "### Why Random Forest?\n",
    "- **Higher Recall for Critical Class**: Random Forest is better at detecting **non-functional wells** (70% recall), which is critical in a scenario where we need to minimize false negatives.\n",
    "- **Better Generalization**: The model’s ability to perform well on both training and validation datasets indicates that it generalizes better, reducing the risk of overfitting.\n",
    "- **Balanced Performance Across Classes**: The **macro-F1** score highlights Random Forest’s ability to balance performance across all classes, which is important given the potential class imbalance (more functional wells than non-functional).\n",
    "\n",
    "### Business Impact\n",
    "The **Random Forest model** will help stakeholders such as:\n",
    "1. **NGOs and local authorities**: Prioritize maintenance efforts, ensuring that resources are directed to **non-functional wells** first.\n",
    "2. **Operational efficiency**: Reduce unnecessary visits to functional wells, saving both time and resources.\n",
    "3. **Improved water access**: By identifying broken wells accurately, the model supports **faster repair interventions**, ensuring more people have access to clean water.\n",
    "\n",
    "### Next Steps\n",
    "1. **Deployment**: The final model can be deployed to predict the condition of wells in real-time, allowing decision-makers to plan maintenance operations more effectively.\n",
    "2. **Model Updates**: Regular updates to the model as more data on well conditions are collected, especially if the distribution of classes changes over time.\n",
    "3. **Feature Engineering**: Consider additional features like **geospatial data**, **seasonal patterns**, or **pump type** to further improve model performance.\n",
    "4. **Integration**: The model can be integrated into existing decision-support systems used by stakeholders to plan maintenance schedules and allocate resources effectively.\n",
    "\n",
    "The **Random Forest model** offers the most reliable and actionable predictions for this classification task, enabling more effective management of water wells in Tanzania. With better performance across key metrics, especially recall for **non-functional wells**, it ensures that critical repairs are prioritized, which directly contributes to **improving access to water** for communities in need.\n"
   ]
  },
  {
   "cell_type": "markdown",
   "metadata": {},
   "source": [
    "<h2 style=\"text-align: center;\">Visualization</h2>\n",
    "\n",
    "In this section, we will present key visualizations that help us evaluate and understand the performance of the model. These visualizations include:\n",
    "\n",
    "1. **Confusion Matrix**: This helps us visualize how well the model is classifying each category of wells (`functional`, `functional needs repair`, `non functional`).\n",
    "2. **Feature Importance**: This chart shows which features were most important in the Random Forest's decision-making process.\n",
    "3. **ROC Curve**: This curve helps evaluate the model’s ability to distinguish between the classes, especially for the **non-functional** class.\n",
    "\n",
    "These charts provide valuable insights into the model's performance, highlighting areas for improvement and guiding decisions for deployment.\n"
   ]
  },
  {
   "cell_type": "markdown",
   "metadata": {},
   "source": [
    "## Confusion Matrix\n",
    "\n",
    "The **confusion matrix** is a valuable tool for evaluating the performance of a classification model. It shows the actual vs predicted classifications across all classes. The rows represent the **true classes**, and the columns represent the **predicted classes**. Each cell contains the number of instances for that particular combination of true and predicted values.\n",
    "\n",
    "In this matrix:\n",
    "- The **diagonal values** (from top-left to bottom-right) represent the **correct classifications** for each class.\n",
    "- The **off-diagonal values** represent the **misclassifications**.\n",
    "\n",
    "For example:\n",
    "- The value in the first row, first column tells us how many **'functional' wells** were correctly predicted.\n",
    "- The value in the second row, third column shows how many **'functional needs repair' wells** were incorrectly predicted as **'non-functional'**.\n",
    "\n",
    "#### Business Implication:\n",
    "- A higher number in the diagonal means the model is performing well at classifying each category correctly.\n",
    "- Off-diagonal values (misclassifications) help us understand where the model is failing and which categories are often misclassified, which can guide further improvements in the model.\n"
   ]
  },
  {
   "cell_type": "code",
   "execution_count": 23,
   "metadata": {},
   "outputs": [
    {
     "data": {
      "image/png": "[encoded data removed]",
      "text/plain": [
       "<Figure size 576x432 with 2 Axes>"
      ]
     },
     "metadata": {
      "needs_background": "light"
     },
     "output_type": "display_data"
    }
   ],
   "source": [
    "import matplotlib.pyplot as plt\n",
    "import seaborn as sns\n",
    "from sklearn.metrics import confusion_matrix\n",
    "\n",
    "# Calculate confusion matrix\n",
    "cm = confusion_matrix(y_va, y_va_hat_rf, labels=['functional', 'functional needs repair', 'non functional'])\n",
    "\n",
    "# Plot confusion matrix\n",
    "plt.figure(figsize=(8, 6))\n",
    "sns.heatmap(cm, annot=True, fmt='d', cmap='Blues', xticklabels=['functional', 'functional needs repair', 'non functional'], \n",
    "            yticklabels=['functional', 'functional needs repair', 'non functional'])\n",
    "plt.title('Confusion Matrix')\n",
    "plt.xlabel('Predicted Label')\n",
    "plt.ylabel('True Label')\n",
    "plt.show()\n"
   ]
  },
  {
   "cell_type": "markdown",
   "metadata": {},
   "source": [
    "## Feature Importance\n",
    "\n",
    "**Feature importance** is a measure of how much each feature contributes to the decision-making process of the model. For the **Random Forest model**, each feature is assigned an importance score based on how well it helps the model reduce error in the predictions.\n",
    "\n",
    "The chart shows which features have the greatest influence on the model's predictions. Features with higher importance are more likely to be used in the decision-making process, and those with lower importance contribute less.\n",
    "\n",
    "#### Key Observations:\n",
    "- Features with the highest importance (e.g., **pump type**, **well age**, etc.) are considered the most influential when the model predicts the status of a well.\n",
    "- Features with low importance may be candidates for removal if we aim to simplify the model or reduce overfitting.\n",
    "\n",
    "#### Business Implication:\n",
    "- Understanding which features drive predictions allows us to focus on improving data collection for those important features.\n",
    "- If certain features are unexpectedly ranked as highly important (e.g., **installer type**), it may prompt further investigation into data quality or domain-specific factors.\n"
   ]
  },
  {
   "cell_type": "code",
   "execution_count": 30,
   "metadata": {},
   "outputs": [
    {
     "data": {
      "image/png": "[encoded data removed]",
      "text/plain": [
       "<Figure size 720x576 with 1 Axes>"
      ]
     },
     "metadata": {
      "needs_background": "light"
     },
     "output_type": "display_data"
    }
   ],
   "source": [
    "# Extract feature importances from the Random Forest model\n",
    "importances = best_rf.named_steps['clf'].feature_importances_\n",
    "\n",
    "# Get the feature names\n",
    "# Method 1: If using scikit-learn >= 1.0\n",
    "try:\n",
    "    # For newer scikit-learn versions\n",
    "    feature_names = best_rf.named_steps['preprocessor'].get_feature_names_out()\n",
    "except:\n",
    "    try:\n",
    "        # For older scikit-learn versions\n",
    "        feature_names = best_rf.named_steps['preprocessor'].get_feature_names()\n",
    "    except:\n",
    "        # Fallback if the above methods don't work\n",
    "        # You might need to adjust this based on your specific preprocessing pipeline\n",
    "        feature_names = [f'feature_{i}' for i in range(len(importances))]\n",
    "\n",
    "# Create a DataFrame for visualization\n",
    "importances_df = pd.DataFrame({\n",
    "    'Feature': feature_names,\n",
    "    'Importance': importances\n",
    "})\n",
    "\n",
    "# Sort the features by importance\n",
    "importances_df = importances_df.sort_values(by='Importance', ascending=False)\n",
    "\n",
    "# Plot Feature Importance\n",
    "plt.figure(figsize=(10, 8))\n",
    "sns.barplot(x='Importance', y='Feature', data=importances_df)\n",
    "plt.title('Feature Importance')\n",
    "plt.show()\n",
    "\n"
   ]
  },
  {
   "cell_type": "markdown",
   "metadata": {},
   "source": [
    "## Receiver Operating Characteristic (ROC) Curve\n",
    "\n",
    "The **ROC curve** is used to evaluate the **classification performance** of a model by plotting the **True Positive Rate (TPR)** against the **False Positive Rate (FPR)** for various threshold values. It helps in understanding the trade-off between sensitivity and specificity as the threshold changes.\n",
    "\n",
    "- **True Positive Rate (TPR)**: The proportion of actual positives (non-functional wells) that were correctly identified by the model.\n",
    "- **False Positive Rate (FPR)**: The proportion of actual negatives (functional wells) that were incorrectly classified as positive (non-functional).\n",
    "\n",
    "The area under the ROC curve (**AUC**) is a measure of the model's ability to distinguish between the positive and negative classes:\n",
    "- An **AUC of 1** indicates a perfect model.\n",
    "- An **AUC of 0.5** indicates a random model.\n",
    "\n",
    "#### Key Observations:\n",
    "- The closer the curve is to the top-left corner, the better the model's performance.\n",
    "- In this case, we are particularly interested in the ROC curve for the **'non-functional' class**, as identifying these wells accurately is crucial for maintenance operations.\n",
    "\n",
    "#### Business Implication:\n",
    "- A higher **AUC** indicates a more reliable model for distinguishing between wells that are functional and those that are non-functional.\n",
    "- By analyzing the ROC curve, stakeholders can adjust the classification threshold to find the best balance between **recall (detecting non-functional wells)** and **precision (minimizing false positives)**.\n"
   ]
  },
  {
   "cell_type": "code",
   "execution_count": 25,
   "metadata": {},
   "outputs": [
    {
     "data": {
      "image/png": "[encoded data removed]",
      "text/plain": [
       "<Figure size 576x432 with 1 Axes>"
      ]
     },
     "metadata": {
      "needs_background": "light"
     },
     "output_type": "display_data"
    }
   ],
   "source": [
    "from sklearn.metrics import roc_curve, auc\n",
    "from sklearn.preprocessing import LabelBinarizer\n",
    "\n",
    "# Binarize the target labels for ROC curve\n",
    "lb = LabelBinarizer()\n",
    "y_va_bin = lb.fit_transform(y_va)\n",
    "\n",
    "# Get the predicted probabilities for each class\n",
    "y_va_prob = best_rf.predict_proba(X_va)\n",
    "\n",
    "# Calculate ROC curve for non-functional class (class 2, assuming binary \"non functional\" vs others)\n",
    "fpr, tpr, thresholds = roc_curve(y_va_bin[:, 2], y_va_prob[:, 2])\n",
    "roc_auc = auc(fpr, tpr)\n",
    "\n",
    "# Plot ROC curve\n",
    "plt.figure(figsize=(8, 6))\n",
    "plt.plot(fpr, tpr, color='blue', lw=2, label='ROC curve (area = %0.2f)' % roc_auc)\n",
    "plt.plot([0, 1], [0, 1], color='gray', linestyle='--')  # Diagonal line (random classifier)\n",
    "plt.title('Receiver Operating Characteristic (ROC) Curve')\n",
    "plt.xlabel('False Positive Rate')\n",
    "plt.ylabel('True Positive Rate')\n",
    "plt.legend(loc='lower right')\n",
    "plt.show()\n"
   ]
  },
  {
   "cell_type": "markdown",
   "metadata": {},
   "source": [
    "## Conclusion\n",
    "\n",
    "This project successfully developed a machine learning model to predict the condition of water wells in Tanzania. The Random Forest model showed the best performance across several metrics, especially recall for non-functional wells, which is critical for prioritizing repairs. The model ensures that resources are allocated effectively, reducing downtime and improving access to clean water.\n",
    "\n",
    "By deploying this model, NGOs and government agencies can make more informed decisions, optimizing their maintenance efforts and improving water access in rural areas. The model also offers flexibility, allowing for regular updates as new data becomes available, ensuring that predictions remain accurate over time."
   ]
  },
  {
   "cell_type": "code",
   "execution_count": null,
   "metadata": {},
   "outputs": [],
   "source": []
  }
 ],
 "metadata": {
  "kernelspec": {
   "display_name": "Python (learn-env)",
   "language": "python",
   "name": "learn-env"
  },
  "language_info": {
   "codemirror_mode": {
    "name": "ipython",
    "version": 3
   },
   "file_extension": ".py",
   "mimetype": "text/x-python",
   "name": "python",
   "nbconvert_exporter": "python",
   "pygments_lexer": "ipython3",
   "version": "3.8.5"
  }
 },
 "nbformat": 4,
 "nbformat_minor": 5
}
